{
 "cells": [
  {
   "cell_type": "code",
   "execution_count": 11,
   "metadata": {},
   "outputs": [],
   "source": [
    "# Import necessary libraries\n",
    "import numpy as np\n",
    "import pandas as pd\n",
    "import os\n",
    "from PIL import Image\n",
    "from tensorflow.keras.preprocessing.image import ImageDataGenerator\n",
    "from tensorflow.keras.utils import to_categorical\n",
    "from tensorflow.keras.models import Model\n",
    "from tensorflow.keras.layers import Input, Conv2D, MaxPooling2D, Flatten, Dense, Dropout\n",
    "from tensorflow.keras.optimizers import Adam\n",
    "from sklearn.preprocessing import LabelEncoder\n",
    "from sklearn.model_selection import train_test_split"
   ]
  },
  {
   "cell_type": "markdown",
   "metadata": {},
   "source": [
    "Define Path "
   ]
  },
  {
   "cell_type": "code",
   "execution_count": 12,
   "metadata": {},
   "outputs": [],
   "source": [
    "# Define paths\n",
    "data_dir = 'C:/License_Plate_Detection/Data/'\n",
    "train_detection_dir = os.path.join(data_dir, 'license_plates_detection_train')\n",
    "train_recognition_dir = os.path.join(data_dir, 'license_plates_recognition_train')\n",
    "test_dir = os.path.join(data_dir, 'test')\n",
    "detection_annotations_csv = os.path.join(data_dir, 'Licplatesdetection_train.csv')\n",
    "recognition_annotations_csv = os.path.join(data_dir, 'Licplatesrecognition_train.csv')\n"
   ]
  },
  {
   "cell_type": "code",
   "execution_count": 30,
   "metadata": {},
   "outputs": [],
   "source": [
    "# Load and preprocess images\n",
    "def load_images_from_folder(folder, target_size=(256, 256)):\n",
    "    images = []\n",
    "    for filename in os.listdir(folder):\n",
    "        img = cv2.imread(os.path.join(folder, filename))\n",
    "        if img is not None:\n",
    "            img = cv2.resize(img, target_size)\n",
    "            images.append(img)\n",
    "    return np.array(images)\n",
    "\n",
    "def load_annotations(csv_file):\n",
    "    return pd.read_csv(csv_file)\n",
    "\n",
    "# Load datasets\n",
    "train_detection_images = load_images_from_folder(os.path.join(data_path, 'license_plates_detection_train'))\n",
    "train_recognition_images = load_images_from_folder(os.path.join(data_path, 'license_plates_recognition_train'))\n",
    "train_detection_annotations = load_annotations(os.path.join(data_path, 'Licplatesdetection_train.csv'))\n",
    "train_recognition_annotations = load_annotations(os.path.join(data_path, 'Licplatesrecognition_train.csv'))\n",
    "\n"
   ]
  },
  {
   "cell_type": "code",
   "execution_count": 13,
   "metadata": {},
   "outputs": [],
   "source": [
    "# Load annotations\n",
    "train_detection_annotations = pd.read_csv(detection_annotations_csv)\n",
    "train_recognition_annotations = pd.read_csv(recognition_annotations_csv)"
   ]
  },
  {
   "cell_type": "code",
   "execution_count": 14,
   "metadata": {},
   "outputs": [
    {
     "name": "stdout",
     "output_type": "stream",
     "text": [
      "Detection annotations columns: Index(['img_id', 'ymin', 'xmin', 'ymax', 'xmax'], dtype='object')\n",
      "Recognition annotations columns: Index(['img_id', 'text'], dtype='object')\n"
     ]
    }
   ],
   "source": [
    "# Print column names to verify\n",
    "print(\"Detection annotations columns:\", train_detection_annotations.columns)\n",
    "print(\"Recognition annotations columns:\", train_recognition_annotations.columns)\n"
   ]
  },
  {
   "cell_type": "code",
   "execution_count": 15,
   "metadata": {},
   "outputs": [],
   "source": [
    "# Preprocess detection annotations\n",
    "def preprocess_detection_annotations(df):\n",
    "    return df[['ymin', 'xmin', 'ymax', 'xmax']].values"
   ]
  },
  {
   "cell_type": "code",
   "execution_count": 16,
   "metadata": {},
   "outputs": [],
   "source": [
    "def preprocess_recognition_annotations(df, num_classes):\n",
    "    labels = df['text'].values\n",
    "    le = LabelEncoder()\n",
    "    le.fit(labels)\n",
    "    labels_encoded = le.transform(labels)\n",
    "    return to_categorical(labels_encoded, num_classes=num_classes), le\n",
    "\n",
    "# Get number of classes for recognition\n",
    "num_classes = len(np.unique(train_recognition_annotations['text']))\n",
    "train_recognition_annotations_preprocessed, label_encoder = preprocess_recognition_annotations(train_recognition_annotations, num_classes=num_classes)\n"
   ]
  },
  {
   "cell_type": "code",
   "execution_count": 17,
   "metadata": {},
   "outputs": [],
   "source": [
    "# Load images and preprocess\n",
    "def load_images(image_dir, annotations_df, target_size=(64, 64)):\n",
    "    images = []\n",
    "    labels = []\n",
    "    for index, row in annotations_df.iterrows():\n",
    "        img_path = os.path.join(image_dir, row['img_id'])  # Use 'img_id' as the filename\n",
    "        img = Image.open(img_path).resize(target_size)\n",
    "        img_array = np.array(img) / 255.0  # Normalize images\n",
    "        images.append(img_array)\n",
    "        labels.append(row['text'])\n",
    "    return np.array(images), labels\n",
    "\n",
    "recognition_images, recognition_labels = load_images(train_recognition_dir, train_recognition_annotations)\n"
   ]
  },
  {
   "cell_type": "code",
   "execution_count": 10,
   "metadata": {},
   "outputs": [
    {
     "name": "stdout",
     "output_type": "stream",
     "text": [
      "    img_id      text\n",
      "0    0.jpg  117T3989\n",
      "1    1.jpg  128T8086\n",
      "2   10.jpg   94T3458\n",
      "3  100.jpg  133T6719\n",
      "4  101.jpg   68T5979\n"
     ]
    }
   ],
   "source": [
    "print(train_recognition_annotations.head())  # Print first few rows to inspect column names\n"
   ]
  },
  {
   "cell_type": "code",
   "execution_count": 18,
   "metadata": {},
   "outputs": [],
   "source": [
    "# Split data\n",
    "X_train, X_val, y_train, y_val = train_test_split(recognition_images, train_recognition_annotations_preprocessed, test_size=0.2, random_state=42)\n"
   ]
  },
  {
   "cell_type": "code",
   "execution_count": 19,
   "metadata": {},
   "outputs": [
    {
     "name": "stdout",
     "output_type": "stream",
     "text": [
      "Found 720 validated image filenames belonging to 596 classes.\n",
      "Found 720 validated image filenames belonging to 596 classes.\n"
     ]
    }
   ],
   "source": [
    "# Create data generators\n",
    "def create_data_generator(image_dir, annotations_df, target_size=(64, 64), batch_size=32):\n",
    "    df = pd.DataFrame({'img_id': annotations_df['img_id'], 'text': annotations_df['text']})\n",
    "    datagen = ImageDataGenerator(rescale=1./255, validation_split=0.2)\n",
    "    generator = datagen.flow_from_dataframe(\n",
    "        dataframe=df,\n",
    "        directory=image_dir,\n",
    "        x_col='img_id',\n",
    "        y_col='text',\n",
    "        target_size=target_size,\n",
    "        batch_size=batch_size,\n",
    "        class_mode='categorical',\n",
    "        subset='training'\n",
    "    )\n",
    "    return generator\n",
    "\n",
    "train_generator = create_data_generator(train_recognition_dir, train_recognition_annotations)\n",
    "val_generator = create_data_generator(train_recognition_dir, train_recognition_annotations)\n"
   ]
  },
  {
   "cell_type": "code",
   "execution_count": 20,
   "metadata": {},
   "outputs": [],
   "source": [
    "# Define the recognition model\n",
    "def create_recognition_model(input_shape=(64, 64, 3), num_classes=596):\n",
    "    input_layer = Input(shape=input_shape)\n",
    "    x = Conv2D(32, (3, 3), activation='relu')(input_layer)\n",
    "    x = MaxPooling2D((2, 2))(x)\n",
    "    x = Conv2D(64, (3, 3), activation='relu')(x)\n",
    "    x = MaxPooling2D((2, 2))(x)\n",
    "    x = Conv2D(128, (3, 3), activation='relu')(x)\n",
    "    x = MaxPooling2D((2, 2))(x)\n",
    "    x = Flatten()(x)\n",
    "    x = Dense(512, activation='relu')(x)\n",
    "    x = Dropout(0.5)(x)\n",
    "    output_layer = Dense(num_classes, activation='softmax')(x)\n",
    "    model = Model(inputs=input_layer, outputs=output_layer)\n",
    "    model.compile(optimizer=Adam(), loss='categorical_crossentropy', metrics=['accuracy'])\n",
    "    return model\n",
    "\n",
    "recognition_model = create_recognition_model(num_classes=num_classes)\n"
   ]
  },
  {
   "cell_type": "code",
   "execution_count": 21,
   "metadata": {},
   "outputs": [
    {
     "name": "stdout",
     "output_type": "stream",
     "text": [
      "Epoch 1/10\n"
     ]
    },
    {
     "name": "stderr",
     "output_type": "stream",
     "text": [
      "c:\\Users\\ASUS\\anaconda3\\Lib\\site-packages\\keras\\src\\trainers\\data_adapters\\py_dataset_adapter.py:121: UserWarning: Your `PyDataset` class should call `super().__init__(**kwargs)` in its constructor. `**kwargs` can include `workers`, `use_multiprocessing`, `max_queue_size`. Do not pass these arguments to `fit()`, as they will be ignored.\n",
      "  self._warn_if_super_not_called()\n"
     ]
    },
    {
     "name": "stdout",
     "output_type": "stream",
     "text": [
      "\u001b[1m23/23\u001b[0m \u001b[32m━━━━━━━━━━━━━━━━━━━━\u001b[0m\u001b[37m\u001b[0m \u001b[1m6s\u001b[0m 121ms/step - accuracy: 0.0022 - loss: 6.4105 - val_accuracy: 0.0111 - val_loss: 6.3810\n",
      "Epoch 2/10\n"
     ]
    },
    {
     "name": "stderr",
     "output_type": "stream",
     "text": [
      "c:\\Users\\ASUS\\anaconda3\\Lib\\contextlib.py:155: UserWarning: Your input ran out of data; interrupting training. Make sure that your dataset or generator can generate at least `steps_per_epoch * epochs` batches. You may need to use the `.repeat()` function when building your dataset.\n",
      "  self.gen.throw(typ, value, traceback)\n"
     ]
    },
    {
     "name": "stdout",
     "output_type": "stream",
     "text": [
      "\u001b[1m23/23\u001b[0m \u001b[32m━━━━━━━━━━━━━━━━━━━━\u001b[0m\u001b[37m\u001b[0m \u001b[1m1s\u001b[0m 35ms/step - accuracy: 0.0000e+00 - loss: 0.0000e+00 - val_accuracy: 0.0111 - val_loss: 6.3810\n",
      "Epoch 3/10\n",
      "\u001b[1m23/23\u001b[0m \u001b[32m━━━━━━━━━━━━━━━━━━━━\u001b[0m\u001b[37m\u001b[0m \u001b[1m2s\u001b[0m 99ms/step - accuracy: 0.0063 - loss: 6.3740 - val_accuracy: 0.0111 - val_loss: 6.2578\n",
      "Epoch 4/10\n",
      "\u001b[1m23/23\u001b[0m \u001b[32m━━━━━━━━━━━━━━━━━━━━\u001b[0m\u001b[37m\u001b[0m \u001b[1m1s\u001b[0m 29ms/step - accuracy: 0.0000e+00 - loss: 0.0000e+00 - val_accuracy: 0.0111 - val_loss: 6.2578\n",
      "Epoch 5/10\n",
      "\u001b[1m23/23\u001b[0m \u001b[32m━━━━━━━━━━━━━━━━━━━━\u001b[0m\u001b[37m\u001b[0m \u001b[1m2s\u001b[0m 97ms/step - accuracy: 0.0000e+00 - loss: 6.2762 - val_accuracy: 0.0153 - val_loss: 6.2414\n",
      "Epoch 6/10\n",
      "\u001b[1m23/23\u001b[0m \u001b[32m━━━━━━━━━━━━━━━━━━━━\u001b[0m\u001b[37m\u001b[0m \u001b[1m1s\u001b[0m 29ms/step - accuracy: 0.0000e+00 - loss: 0.0000e+00 - val_accuracy: 0.0153 - val_loss: 6.2414\n",
      "Epoch 7/10\n",
      "\u001b[1m23/23\u001b[0m \u001b[32m━━━━━━━━━━━━━━━━━━━━\u001b[0m\u001b[37m\u001b[0m \u001b[1m3s\u001b[0m 110ms/step - accuracy: 0.0070 - loss: 6.2330 - val_accuracy: 0.0111 - val_loss: 6.1688\n",
      "Epoch 8/10\n",
      "\u001b[1m23/23\u001b[0m \u001b[32m━━━━━━━━━━━━━━━━━━━━\u001b[0m\u001b[37m\u001b[0m \u001b[1m1s\u001b[0m 36ms/step - accuracy: 0.0000e+00 - loss: 0.0000e+00 - val_accuracy: 0.0111 - val_loss: 6.1688\n",
      "Epoch 9/10\n",
      "\u001b[1m23/23\u001b[0m \u001b[32m━━━━━━━━━━━━━━━━━━━━\u001b[0m\u001b[37m\u001b[0m \u001b[1m3s\u001b[0m 125ms/step - accuracy: 0.0163 - loss: 6.1832 - val_accuracy: 0.0111 - val_loss: 6.1104\n",
      "Epoch 10/10\n",
      "\u001b[1m23/23\u001b[0m \u001b[32m━━━━━━━━━━━━━━━━━━━━\u001b[0m\u001b[37m\u001b[0m \u001b[1m1s\u001b[0m 36ms/step - accuracy: 0.0000e+00 - loss: 0.0000e+00 - val_accuracy: 0.0111 - val_loss: 6.1104\n"
     ]
    }
   ],
   "source": [
    "# Train the model\n",
    "history = recognition_model.fit(\n",
    "    train_generator,\n",
    "    steps_per_epoch=len(train_generator),\n",
    "    epochs=10,\n",
    "    validation_data=val_generator\n",
    ")\n"
   ]
  },
  {
   "cell_type": "code",
   "execution_count": 22,
   "metadata": {},
   "outputs": [],
   "source": [
    "# Evaluate the model\n",
    "def evaluate_model(model, generator):\n",
    "    results = model.evaluate(generator)\n",
    "    return results"
   ]
  },
  {
   "cell_type": "code",
   "execution_count": 23,
   "metadata": {},
   "outputs": [
    {
     "name": "stdout",
     "output_type": "stream",
     "text": [
      "Found 720 validated image filenames belonging to 596 classes.\n",
      "\u001b[1m 5/23\u001b[0m \u001b[32m━━━━\u001b[0m\u001b[37m━━━━━━━━━━━━━━━━\u001b[0m \u001b[1m0s\u001b[0m 33ms/step - accuracy: 0.0028 - loss: 6.0880    "
     ]
    },
    {
     "name": "stderr",
     "output_type": "stream",
     "text": [
      "c:\\Users\\ASUS\\anaconda3\\Lib\\site-packages\\keras\\src\\trainers\\data_adapters\\py_dataset_adapter.py:121: UserWarning: Your `PyDataset` class should call `super().__init__(**kwargs)` in its constructor. `**kwargs` can include `workers`, `use_multiprocessing`, `max_queue_size`. Do not pass these arguments to `fit()`, as they will be ignored.\n",
      "  self._warn_if_super_not_called()\n"
     ]
    },
    {
     "name": "stdout",
     "output_type": "stream",
     "text": [
      "\u001b[1m23/23\u001b[0m \u001b[32m━━━━━━━━━━━━━━━━━━━━\u001b[0m\u001b[37m\u001b[0m \u001b[1m1s\u001b[0m 38ms/step - accuracy: 0.0067 - loss: 6.1054\n",
      "Recognition Results: [6.110418796539307, 0.011111111380159855]\n"
     ]
    }
   ],
   "source": [
    "# Create a generator for validation data\n",
    "val_generator = create_data_generator(train_recognition_dir, train_recognition_annotations)\n",
    "\n",
    "recognition_results = evaluate_model(recognition_model, val_generator)\n",
    "print('Recognition Results:', recognition_results)"
   ]
  },
  {
   "cell_type": "code",
   "execution_count": 24,
   "metadata": {},
   "outputs": [],
   "source": [
    "# Save results\n",
    "results_dir = 'C:/License_Plate_Detection/results/'\n",
    "os.makedirs(results_dir, exist_ok=True)\n"
   ]
  },
  {
   "cell_type": "code",
   "execution_count": 25,
   "metadata": {},
   "outputs": [
    {
     "name": "stderr",
     "output_type": "stream",
     "text": [
      "WARNING:absl:You are saving your model as an HDF5 file via `model.save()` or `keras.saving.save_model(model)`. This file format is considered legacy. We recommend using instead the native Keras format, e.g. `model.save('my_model.keras')` or `keras.saving.save_model(model, 'my_model.keras')`. \n"
     ]
    }
   ],
   "source": [
    "# Save model\n",
    "recognition_model.save(os.path.join(results_dir, 'recognition_model.h5'))"
   ]
  },
  {
   "cell_type": "code",
   "execution_count": 26,
   "metadata": {},
   "outputs": [],
   "source": [
    "# Save results to CSV\n",
    "recognition_results_df = pd.DataFrame({'Metric': ['Loss', 'Accuracy'], 'Value': recognition_results})\n",
    "recognition_results_df.to_csv(os.path.join(results_dir, 'recognition_results.csv'), index=False)"
   ]
  }
 ],
 "metadata": {
  "kernelspec": {
   "display_name": "GCP Cloud Vision",
   "language": "python",
   "name": "gcp-cloud-vision"
  },
  "language_info": {
   "codemirror_mode": {
    "name": "ipython",
    "version": 3
   },
   "file_extension": ".py",
   "mimetype": "text/x-python",
   "name": "python",
   "nbconvert_exporter": "python",
   "pygments_lexer": "ipython3",
   "version": "3.11.5"
  }
 },
 "nbformat": 4,
 "nbformat_minor": 2
}
